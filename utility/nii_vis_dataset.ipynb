{
 "cells": [
  {
   "cell_type": "markdown",
   "source": [
    "# Processing NIfTI Medical Volumes"
   ],
   "metadata": {
    "collapsed": false,
    "pycharm": {
     "name": "#%% md\n"
    }
   }
  },
  {
   "cell_type": "code",
   "execution_count": null,
   "outputs": [],
   "source": [
    "import numpy as np\n",
    "import os\n",
    "import shutil"
   ],
   "metadata": {
    "collapsed": false,
    "pycharm": {
     "name": "#%%\n"
    }
   }
  },
  {
   "cell_type": "code",
   "execution_count": null,
   "outputs": [],
   "source": [
    "import cv2\n",
    "from PIL import Image\n",
    "from natsort import natsorted\n",
    "import nibabel as nib\n",
    "import matplotlib.pyplot as plt\n",
    "\n",
    "from convert_nii2png import nii2png"
   ],
   "metadata": {
    "collapsed": false,
    "pycharm": {
     "name": "#%%\n"
    }
   }
  },
  {
   "cell_type": "markdown",
   "metadata": {
    "pycharm": {
     "name": "#%% md\n"
    }
   },
   "source": [
    "## Dataset \n",
    "The data  to prcess was ingested from the sources below:\n",
    "\n",
    "1. COVID-19 Lung CT Lesion Segmentation Challenge - 2020, 199 patients https://covid-segmentation.grand-challenge.org/COVID-19-20/\n",
    "\n",
    "2. COVID-19 CT Lung and Infection Segmentation Dataset, 20 patients (only infection masks were used) https://zenodo.org/record/3757476#.YTdEx55Kg1h\n",
    "\n",
    "3. Medseg AI - SIRM ( dataset 100 scans from 48 patients - https://medicalsegmentation.com/covid19/\n",
    "\n",
    "4. MosMedData Dataset COVID19_1110, https://www.kaggle.com/datasets/maedemaftouni/covid19-ct-scan-lesion-segmentation-dataset50"
   ]
  },
  {
   "cell_type": "markdown",
   "metadata": {
    "pycharm": {
     "name": "#%% md\n"
    }
   },
   "source": [
    " ## 1. Visualize a voxel slice"
   ]
  },
  {
   "cell_type": "code",
   "execution_count": null,
   "metadata": {
    "pycharm": {
     "name": "#%%\n"
    }
   },
   "outputs": [],
   "source": [
    "current_dir = os.getcwd()"
   ]
  },
  {
   "cell_type": "code",
   "execution_count": null,
   "metadata": {
    "pycharm": {
     "name": "#%%\n"
    }
   },
   "outputs": [],
   "source": [
    "gc_dir= os.listdir(os.path.join(current_dir, 'segmentation_datasets/grandchallenge/COVID-19-20_v2/Train'))"
   ]
  },
  {
   "cell_type": "code",
   "execution_count": null,
   "metadata": {
    "pycharm": {
     "name": "#%%\n"
    }
   },
   "outputs": [],
   "source": [
    "len(gc_dir)"
   ]
  },
  {
   "cell_type": "code",
   "execution_count": null,
   "metadata": {
    "pycharm": {
     "name": "#%%\n"
    }
   },
   "outputs": [],
   "source": [
    "voxels= nib.load(os.path.join(current_dir, 'segmentation_datasets/grandchallenge/COVID-19-20_v2/Train/volume-covid19-A-0599_ct.nii.gz')).get_fdata()\n",
    "voxel= voxels\n",
    "print(voxels.shape)\n",
    "sl = 12\n",
    "vox_slice= voxels[:,:, sl]\n",
    "plt.imshow(vox_slice, cmap='gray')"
   ]
  },
  {
   "cell_type": "code",
   "execution_count": null,
   "metadata": {
    "pycharm": {
     "name": "#%%\n"
    }
   },
   "outputs": [],
   "source": [
    "voxels= nib.load('./segmentation_datasets/grandchallenge/COVID-19-20_v2/Train/volume-covid19-A-0599_seg.nii.gz').get_fdata()\n",
    "print(voxels.shape)\n",
    "sl = 12\n",
    "vox_slice= voxels[:,:, sl]\n",
    "plt.imshow(vox_slice, cmap='gray')"
   ]
  },
  {
   "cell_type": "markdown",
   "metadata": {
    "pycharm": {
     "name": "#%% md\n"
    }
   },
   "source": [
    "## 1.  Create parent and children directories"
   ]
  },
  {
   "cell_type": "code",
   "execution_count": null,
   "metadata": {
    "pycharm": {
     "name": "#%%\n"
    }
   },
   "outputs": [],
   "source": [
    "!find . -name \"*.DS_Store\" -type f -delete"
   ]
  },
  {
   "cell_type": "code",
   "execution_count": null,
   "metadata": {
    "pycharm": {
     "name": "#%%\n"
    }
   },
   "outputs": [],
   "source": [
    "# Create parent directory\n",
    "\n",
    "parent_dir = os.path.join(os.getcwd(), 'merged_dataset')\n",
    "try:\n",
    "    os.makedirs(parent_dir, exist_ok=False)\n",
    "    print('Directory created successfully')\n",
    "except OSError as error:\n",
    "    print('Directory exist')"
   ]
  },
  {
   "cell_type": "code",
   "execution_count": null,
   "metadata": {
    "pycharm": {
     "name": "#%%\n"
    }
   },
   "outputs": [],
   "source": [
    "# Create children directories\n",
    "\n",
    "child_dirs = ['CT', 'GT']\n",
    "\n",
    "for child in child_dirs:\n",
    "    try:\n",
    "        os.makedirs(os.path.join(parent_dir, child), exist_ok=False)\n",
    "        print('Directory created successfully')\n",
    "    except OSError as error:\n",
    "        print('Directory can not be created')\n",
    "    "
   ]
  },
  {
   "cell_type": "code",
   "execution_count": null,
   "metadata": {
    "pycharm": {
     "name": "#%%\n"
    }
   },
   "outputs": [],
   "source": [
    "def move_file(src_dir, dest_dir):\n",
    "    return shutil.move(src_dir, dest_dir)"
   ]
  },
  {
   "cell_type": "markdown",
   "metadata": {
    "pycharm": {
     "name": "#%% md\n"
    }
   },
   "source": [
    "<h3> 2.1 Move Grand challenge volumens onto the parent diretory</h3>"
   ]
  },
  {
   "cell_type": "code",
   "execution_count": null,
   "metadata": {
    "pycharm": {
     "name": "#%%\n"
    }
   },
   "outputs": [],
   "source": [
    "grand_challenge = sorted(gc_dir)"
   ]
  },
  {
   "cell_type": "code",
   "execution_count": null,
   "metadata": {
    "pycharm": {
     "name": "#%%\n"
    }
   },
   "outputs": [],
   "source": [
    "len(grand_challenge)"
   ]
  },
  {
   "cell_type": "code",
   "execution_count": null,
   "metadata": {
    "pycharm": {
     "name": "#%%\n"
    }
   },
   "outputs": [],
   "source": [
    "gc_src = os.path.join(os.getcwd(), 'segmentation_datasets/grandchallenge/COVID-19-20_v2/Train')"
   ]
  },
  {
   "cell_type": "code",
   "execution_count": null,
   "metadata": {
    "pycharm": {
     "name": "#%%\n"
    }
   },
   "outputs": [],
   "source": [
    "for i, vol in enumerate(grand_challenge):\n",
    "    source = os.path.join(gc_src, vol)\n",
    "    if '_ct' in vol:\n",
    "        dest =  os.path.join('./merged_dataset/CT')\n",
    "    elif '_seg' in vol:\n",
    "        dest = os.path.join('./merged_dataset/GT')\n",
    "    else:\n",
    "        continue\n",
    "    move_file(source, dest)"
   ]
  },
  {
   "cell_type": "code",
   "execution_count": null,
   "metadata": {
    "pycharm": {
     "name": "#%%\n"
    }
   },
   "outputs": [],
   "source": [
    "gt= os.listdir(os.path.join(current_dir, 'merged_dataset/GT'))\n",
    "ct= os.listdir(os.path.join(current_dir, 'merged_dataset/CT'))\n",
    "print(f'Ground truth volumes: {len(gt)}')\n",
    "print(f'3D Image volumes: {len(ct)}')"
   ]
  },
  {
   "cell_type": "markdown",
   "metadata": {
    "pycharm": {
     "name": "#%% md\n"
    }
   },
   "source": [
    "<h3> 2.2 Move Grand challenge volumens onto the parent diretory</h3>"
   ]
  },
  {
   "cell_type": "code",
   "execution_count": null,
   "metadata": {
    "pycharm": {
     "name": "#%%\n"
    }
   },
   "outputs": [],
   "source": [
    "zenodo_dir = os.path.join(os.getcwd(),'segmentation_datasets/zenodo_ma_jun_segmentation')\n",
    "zenodo_list = sorted(os.listdir(zenodo_dir))"
   ]
  },
  {
   "cell_type": "code",
   "execution_count": null,
   "metadata": {
    "pycharm": {
     "name": "#%%\n"
    }
   },
   "outputs": [],
   "source": [
    "print('List of Files')\n",
    "print('Zenodo dir', zenodo_dir, 'Zenodo list', zenodo_list, sep='\\n')"
   ]
  },
  {
   "cell_type": "code",
   "execution_count": null,
   "metadata": {
    "pycharm": {
     "name": "#%%\n"
    }
   },
   "outputs": [],
   "source": [
    "zen_ct = os.path.join(zenodo_dir, 'COVID-19-CT-Seg_20cases')\n",
    "zen_gt = os.path.join(zenodo_dir, 'Infection_Mask')\n",
    "zen_ct_list = sorted(os.listdir(zen_ct))\n",
    "zen_gt_list = sorted(os.listdir(zen_gt)) "
   ]
  },
  {
   "cell_type": "code",
   "execution_count": null,
   "metadata": {
    "pycharm": {
     "name": "#%%\n"
    }
   },
   "outputs": [],
   "source": [
    "zen_gt_list.remove('.DS_Store')"
   ]
  },
  {
   "cell_type": "code",
   "execution_count": null,
   "metadata": {
    "pycharm": {
     "name": "#%%\n"
    }
   },
   "outputs": [],
   "source": [
    "for vol in enumerate(zen_ct_list):\n",
    "    source = os.path.join(zen_ct, vol)\n",
    "    dest =  os.path.join('./merged_dataset/CT')\n",
    "    move_file(source, dest) "
   ]
  },
  {
   "cell_type": "code",
   "execution_count": null,
   "metadata": {
    "pycharm": {
     "name": "#%%\n"
    }
   },
   "outputs": [],
   "source": [
    "for i, vol in enumerate(zen_gt_list):\n",
    "    source = os.path.join(zen_gt, vol)\n",
    "    dest =  os.path.join('./merged_dataset/GT')\n",
    "    move_file(source, dest) "
   ]
  },
  {
   "cell_type": "markdown",
   "metadata": {
    "pycharm": {
     "name": "#%% md\n"
    }
   },
   "source": [
    "<h3> 2.1 Move Medical Segmentatation(MedSeg) volumens onto the parent diretory</h3>"
   ]
  },
  {
   "cell_type": "code",
   "execution_count": null,
   "metadata": {
    "pycharm": {
     "name": "#%%\n"
    }
   },
   "outputs": [],
   "source": [
    "dest_msk = os.path.join(os.path.join(current_dir, 'merged_dataset/GT'))\n",
    "dest_img = os.path.join(os.path.join(current_dir, 'merged_dataset/CT'))\n",
    "simr_mask = './segmentation_datasets/SIRM/tr_mask.nii.gz'\n",
    "simr_img = './segmentation_datasets/SIRM/tr_im.nii.gz'\n",
    "move_file(simr_mask, dest_msk)\n",
    "move_file(simr_img, dest_img)\n"
   ]
  },
  {
   "cell_type": "code",
   "execution_count": null,
   "metadata": {
    "pycharm": {
     "name": "#%%\n"
    }
   },
   "outputs": [],
   "source": [
    "!find . -name \"*.DS_Store\" -type f -delete"
   ]
  },
  {
   "cell_type": "code",
   "execution_count": null,
   "metadata": {
    "pycharm": {
     "name": "#%%\n"
    }
   },
   "outputs": [],
   "source": [
    "vol_path = os.path.join(os.getcwd(),'merged_dataset')"
   ]
  },
  {
   "cell_type": "code",
   "execution_count": null,
   "metadata": {
    "pycharm": {
     "name": "#%%\n"
    }
   },
   "outputs": [],
   "source": [
    "CT_list= list(sorted(os.listdir(os.path.join(vol_path,'CT'))))\n",
    "GT_list= list(sorted(os.listdir(os.path.join(vol_path,'GT'))))"
   ]
  },
  {
   "cell_type": "code",
   "execution_count": null,
   "metadata": {
    "pycharm": {
     "name": "#%%\n"
    }
   },
   "outputs": [],
   "source": [
    "# 199 Grand challenge + 20 Zenodo + 1 SIRM\n",
    "print('CT volumes:{}, Mask volumes:{}'.format(len(CT_list), len(GT_list)))\n",
    "      "
   ]
  },
  {
   "cell_type": "markdown",
   "metadata": {
    "pycharm": {
     "name": "#%% md\n"
    }
   },
   "source": [
    "<h2> 3. Visualizing datasets in axes z, x and y </h2>"
   ]
  },
  {
   "cell_type": "code",
   "execution_count": null,
   "metadata": {
    "pycharm": {
     "name": "#%%\n"
    }
   },
   "outputs": [],
   "source": [
    "ct_dir= os.path.join(vol_path,'CT')\n",
    "gt_dir= os.path.join(vol_path,'GT')"
   ]
  },
  {
   "cell_type": "code",
   "execution_count": null,
   "metadata": {
    "pycharm": {
     "name": "#%%\n"
    }
   },
   "outputs": [],
   "source": [
    "# 3 nii files from the two datasets collection\n",
    "ct_vols = ['coronacases_005.nii.gz','radiopaedia_14_85914_0.nii.gz','volume-covid19-A-0657_ct.nii.gz']"
   ]
  },
  {
   "cell_type": "code",
   "execution_count": null,
   "metadata": {
    "pycharm": {
     "name": "#%%\n"
    }
   },
   "outputs": [],
   "source": [
    "!find . -name \"*.DS_Store\" -type f -delete"
   ]
  },
  {
   "cell_type": "code",
   "execution_count": null,
   "metadata": {
    "pycharm": {
     "name": "#%%\n"
    }
   },
   "outputs": [],
   "source": [
    "gt_vols =['coronacases_005.nii.gz','radiopaedia_14_85914_0.nii.gz','volume-covid19-A-0657_seg.nii.gz']"
   ]
  },
  {
   "cell_type": "code",
   "execution_count": null,
   "metadata": {
    "pycharm": {
     "name": "#%%\n"
    }
   },
   "outputs": [],
   "source": [
    "def volume_vis(volumes, im_dir):\n",
    "    \n",
    "    \"\"\"\n",
    "    Helps to visualize the orientation of the volumes\n",
    "    inputs: a list of volumes from the different datasets\n",
    "    and directory of the volumes\n",
    "    outpust: 2D image (middle slice of the  volumes)\n",
    "    \n",
    "    \"\"\"\n",
    "    \n",
    "    size = (512, 512)\n",
    "    mid_vox = list()\n",
    "    shapes= list()\n",
    "    \n",
    "    for v in volumes:\n",
    "        vox= nib.load(os.path.join(im_dir, v)).get_fdata()\n",
    "        slc = int(vox.shape[-1]/2)\n",
    "        sliced= vox[:,:, slc]\n",
    "        if sliced.shape != size:\n",
    "            sliced = cv2.resize(sliced, size, interpolation=cv2.INTER_NEAREST)\n",
    "        mid_vox.append(sliced)\n",
    "        shapes.append(sliced.shape)\n",
    "    #Visualize slice\n",
    "    fig, ax = plt.subplots(1, len(mid_vox), sharex=False, sharey=False)\n",
    "    ax = ax.flatten()\n",
    "    for ii, sli in enumerate(mid_vox):\n",
    "        ax[ii].imshow(sli, cmap=plt.cm.gray)\n",
    "    plt.subplots_adjust(hspace=0, wspace=1) \n",
    "    \n",
    "    return shapes\n",
    "    "
   ]
  },
  {
   "cell_type": "code",
   "execution_count": null,
   "metadata": {
    "pycharm": {
     "name": "#%%\n"
    }
   },
   "outputs": [],
   "source": [
    "volume_vis(gt_vols, gt_dir)"
   ]
  },
  {
   "cell_type": "code",
   "execution_count": null,
   "metadata": {
    "pycharm": {
     "name": "#%%\n"
    }
   },
   "outputs": [],
   "source": [
    "volume_vis(ct_vols, ct_dir)"
   ]
  },
  {
   "cell_type": "code",
   "execution_count": null,
   "metadata": {
    "pycharm": {
     "name": "#%%\n"
    }
   },
   "outputs": [],
   "source": [
    "def axesvolume_vis(volumes, im_dir, vol_slice, sl_axis=None):\n",
    "    \n",
    "    \"\"\"\n",
    "    Helps to the volumes in x and y axes\n",
    "    input: volumes, ct directory, slice axes\n",
    "    outpust: 2D image \n",
    "    \n",
    "    \"\"\"\n",
    "    assert  sl_axis in ['x', 'y', 'z']\n",
    "    size = (512, 512)\n",
    "    mid_vox = list()\n",
    "    shapes= list()\n",
    "    \n",
    "    for v in volumes:\n",
    "        vox = nib.load(os.path.join(im_dir, v)).get_fdata()\n",
    "\n",
    "        if sl_axis == 'x':\n",
    "            sliced= vox[vol_slice, : ,:]\n",
    "        elif sl_axis == 'y':\n",
    "            sliced= vox[:,vol_slice,:]\n",
    "        else:\n",
    "            sliced= vox[:,:, vol_slice]\n",
    "        \n",
    "        if sliced.shape != size:\n",
    "            sliced = cv2.resize(sliced, size, interpolation=cv2.INTER_NEAREST)\n",
    "        \n",
    "        mid_vox.append(sliced)\n",
    "        shapes.append(sliced.shape)\n",
    "\n",
    "    #Visualize slice\n",
    "\n",
    "    fig, ax = plt.subplots(1, len(mid_vox), sharex=False, sharey= False)\n",
    "    ax = ax.flatten()\n",
    "    for ii, sli in enumerate(mid_vox):\n",
    "        ax[ii].imshow(sli, cmap=plt.cm.gray)\n",
    "    plt.subplots_adjust(hspace=0, wspace=1)   \n",
    "    \n",
    "    return shapes"
   ]
  },
  {
   "cell_type": "code",
   "execution_count": null,
   "metadata": {
    "pycharm": {
     "name": "#%%\n"
    }
   },
   "outputs": [],
   "source": [
    "# Examples of the slices\n",
    "axesvolume_vis(ct_vols, ct_dir, 200, 'x')"
   ]
  },
  {
   "cell_type": "code",
   "execution_count": null,
   "metadata": {
    "pycharm": {
     "name": "#%%\n"
    }
   },
   "outputs": [],
   "source": [
    "axesvolume_vis(ct_vols, ct_dir, 300, 'y')"
   ]
  },
  {
   "cell_type": "markdown",
   "metadata": {
    "pycharm": {
     "name": "#%% md\n"
    }
   },
   "source": [
    "## 4. Slicing the dataset"
   ]
  },
  {
   "cell_type": "code",
   "execution_count": null,
   "metadata": {
    "pycharm": {
     "name": "#%%\n"
    }
   },
   "outputs": [],
   "source": [
    "# Create parent directory and children directory for the slice dataset\n",
    "child_dirs = ['CT', 'GT']\n",
    "slice_dir = os.path.join(os.getcwd(), 'merged_dataset/merged_dataset')\n",
    "\n",
    "for child in child_dirs:\n",
    "    child_dir = os.path.join(slice_dir, child)\n",
    "    try:\n",
    "        os.makedirs(child_dir, exist_ok=False)\n",
    "        print('Directory created successfully')\n",
    "    except OSError as error:\n",
    "        print('Directory exist')"
   ]
  },
  {
   "cell_type": "code",
   "execution_count": null,
   "metadata": {
    "pycharm": {
     "name": "#%%\n"
    }
   },
   "outputs": [],
   "source": [
    "input_path = vol_path\n",
    "output_path = slice_dir"
   ]
  },
  {
   "cell_type": "code",
   "execution_count": null,
   "metadata": {
    "pycharm": {
     "name": "#%%\n"
    }
   },
   "outputs": [],
   "source": [
    "nii2png(input_path, output_path,'z')   "
   ]
  },
  {
   "cell_type": "markdown",
   "metadata": {
    "pycharm": {
     "name": "#%% md\n"
    }
   },
   "source": [
    "## 5. Moving Morozov CT slices onto the sliced directory"
   ]
  },
  {
   "cell_type": "markdown",
   "metadata": {
    "pycharm": {
     "name": "#%% md\n"
    }
   },
   "source": [
    "The Morozov dataset images were sourced from kaggle. The original link to the dataset is\n",
    "https://mosmed.ai/datasets/covid19_1110/ is no longer available."
   ]
  },
  {
   "cell_type": "code",
   "execution_count": null,
   "metadata": {
    "pycharm": {
     "name": "#%%\n"
    }
   },
   "outputs": [],
   "source": [
    "mo_dir = os.path.join(os.getcwd(), 'segmentation_datasets/maede_maftouni-segmentation')\n",
    "mo_ct = natsorted(os.listdir(os.path.join(mo_dir, 'frames')))\n",
    "mo_gt = natsorted(os.listdir(os.path.join(mo_dir, 'masks')))"
   ]
  },
  {
   "cell_type": "code",
   "execution_count": null,
   "metadata": {
    "pycharm": {
     "name": "#%%\n"
    }
   },
   "outputs": [],
   "source": [
    "mo_gt = [g for g in mo_gt if 'Morozov' in g]\n",
    "mo_ct = [c for c in mo_ct if 'Morozov' in c]"
   ]
  },
  {
   "cell_type": "code",
   "execution_count": null,
   "metadata": {
    "pycharm": {
     "name": "#%%\n"
    }
   },
   "outputs": [],
   "source": [
    "# Check for the same number of images and masks\n",
    "print(len(mo_gt), len(mo_ct))\n",
    "mo_gt == mo_ct"
   ]
  },
  {
   "cell_type": "code",
   "execution_count": null,
   "metadata": {
    "pycharm": {
     "name": "#%%\n"
    }
   },
   "outputs": [],
   "source": [
    "for g in mo_gt:\n",
    "    # Images and gt save with the same fname\n",
    "    sr_img = os.path.join(mo_dir, 'frames', g)\n",
    "    sr_msk = os.path.join(mo_dir, 'masks', g)\n",
    "    dest_img =  os.path.join(output_path, 'CT')\n",
    "    dest_msk =  os.path.join(output_path, 'GT')\n",
    "    # Move files\n",
    "    move_file(sr_img, dest_img) \n",
    "    move_file(sr_msk, dest_msk) "
   ]
  },
  {
   "cell_type": "markdown",
   "metadata": {
    "pycharm": {
     "name": "#%% md\n"
    }
   },
   "source": [
    "## 6. Clean dataset\n",
    "\n",
    "Remove images and their mask from the dataset if the infection is than 110 pixels."
   ]
  },
  {
   "cell_type": "code",
   "execution_count": null,
   "metadata": {
    "pycharm": {
     "name": "#%%\n"
    }
   },
   "outputs": [],
   "source": [
    "msks = natsorted(os.listdir(os.path.join(slice_dir,'GT')))"
   ]
  },
  {
   "cell_type": "code",
   "execution_count": null,
   "metadata": {
    "pycharm": {
     "name": "#%%\n"
    }
   },
   "outputs": [],
   "source": [
    "imgs = natsorted(os.listdir(os.path.join(slice_dir,'CT')))"
   ]
  },
  {
   "cell_type": "code",
   "execution_count": null,
   "metadata": {
    "pycharm": {
     "name": "#%%\n"
    }
   },
   "outputs": [],
   "source": [
    "c=0\n",
    "for i in range(len(imgs)):\n",
    "    mask = np.array(Image.open(os.path.join(output_path,'GT', msks[i])).convert('L'))\n",
    "    im = np.array(Image.open(os.path.join(output_path,'CT', imgs[i])).convert('RGB'))\n",
    "    pathg =os.path.join(output_path,'GT', msks[i])\n",
    "    pathi =os.path.join(output_path,'CT', imgs[i])\n",
    "    px = np.where(mask == 255) \n",
    "    if len(px[0]) < 110:\n",
    "        os.remove(pathg) \n",
    "        os.remove(pathi) \n",
    "        c += 1\n",
    "print(f'Total removed {c}')"
   ]
  },
  {
   "cell_type": "code",
   "execution_count": null,
   "metadata": {
    "pycharm": {
     "name": "#%%\n"
    }
   },
   "outputs": [],
   "source": [
    "print(f'Total masks in dataset: {len(msks)}')\n",
    "print(f'Total images in dataset: {len(imgs)}')"
   ]
  }
 ],
 "metadata": {
  "kernelspec": {
   "display_name": "Python 3 (ipykernel)",
   "language": "python",
   "name": "python3"
  },
  "language_info": {
   "codemirror_mode": {
    "name": "ipython",
    "version": 3
   },
   "file_extension": ".py",
   "mimetype": "text/x-python",
   "name": "python",
   "nbconvert_exporter": "python",
   "pygments_lexer": "ipython3",
   "version": "3.8.13"
  }
 },
 "nbformat": 4,
 "nbformat_minor": 4
}